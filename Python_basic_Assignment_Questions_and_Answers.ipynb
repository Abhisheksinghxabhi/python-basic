{
  "nbformat": 4,
  "nbformat_minor": 0,
  "metadata": {
    "colab": {
      "provenance": []
    },
    "kernelspec": {
      "name": "python3",
      "display_name": "Python 3"
    },
    "language_info": {
      "name": "python"
    }
  },
  "cells": [
    {
      "cell_type": "code",
      "execution_count": null,
      "metadata": {
        "id": "LpgYqBqFsMi7"
      },
      "outputs": [],
      "source": []
    },
    {
      "cell_type": "code",
      "source": [
        "\n"
      ],
      "metadata": {
        "id": "0nTs1ZZSscu9"
      },
      "execution_count": null,
      "outputs": []
    },
    {
      "cell_type": "code",
      "source": [],
      "metadata": {
        "id": "UBiGALzfsXoL"
      },
      "execution_count": null,
      "outputs": []
    },
    {
      "cell_type": "markdown",
      "source": [
        "1.  What is Python, and why is it popular?\n",
        "  -> Python is a high-level,interpreted programming language known for its simplicity and vast library support\n",
        "2. What is an interpreter in Python?\n",
        "  -> It's a program that runs Python code line by line.\n",
        "3. What are pre-defined keywords in Python?\n",
        "   -> if, else, for, while that have special meaning and cannot be used as variable names.\n",
        "4. Can keywords be used as variable names?\n",
        "   -> No\n",
        "5. What is mutability in Python?\n",
        "   -> It refers to whether an object can be changed after creation (mutable) or not (immutable).\n",
        "6. Why are lists mutable, but tuples are immutable?\n",
        "   -> Lists allow item changes, while tuples are fixed to ensure data integrity.\n",
        "7. What is the difference between == and is operators in Python?\n",
        "   -> == checks value equality wheres is operators checks identity.\n",
        "8. What are logical operators in Python?\n",
        "   -> and, or, not – used to combine conditional statements.\n",
        "9. What is type casting in Python?\n",
        "   -> Converting one data type to another.\n",
        "10. What is the difference between implicit and explicit type casting?\n",
        "  -> Implicit is automatic conversion by Python while explicit is done manually by the programmer.\n",
        "11. What is the purpose of conditional statements in Python?\n",
        "  -> To execute code based on certain conditions.\n",
        "12. How does the elif statement work?\n",
        "  -> It checks another condition if the previous if was false.\n",
        "13. What is the difference between for and while loops?\n",
        "   -> For loop runs a fixed number of times and while loop runs until a condition is false.\n",
        "14. Describe a scenario where a while loop is more suitable than a for loop.\n",
        "   -> When the number of iterations is unknown for example waiting for user input until it's valid.\n",
        "  \n",
        "\n",
        "\n"
      ],
      "metadata": {
        "id": "Z1In6FymtcXO"
      }
    },
    {
      "cell_type": "code",
      "source": [
        "# 1.Write a Python program to print \"Hello, World!y\n"
      ],
      "metadata": {
        "id": "judXqocbyiHq"
      },
      "execution_count": 8,
      "outputs": []
    },
    {
      "cell_type": "code",
      "source": [
        "print(\"Hello, World!\")"
      ],
      "metadata": {
        "colab": {
          "base_uri": "https://localhost:8080/"
        },
        "id": "HKveZjZBzFdA",
        "outputId": "58db67d4-da3f-4c12-b0b6-bcaaee8575cc"
      },
      "execution_count": 9,
      "outputs": [
        {
          "output_type": "stream",
          "name": "stdout",
          "text": [
            "Hello, World!\n"
          ]
        }
      ]
    },
    {
      "cell_type": "code",
      "source": [
        "# 2. Write a Python program that displays your name and age"
      ],
      "metadata": {
        "id": "T7BNWqLkzMIJ"
      },
      "execution_count": 10,
      "outputs": []
    },
    {
      "cell_type": "code",
      "source": [
        "name = \"Abhishek Pratap Singh\"\n",
        "age = 24\n",
        "print(\"Name:\", name)\n",
        "print(\"Age:\", age)"
      ],
      "metadata": {
        "colab": {
          "base_uri": "https://localhost:8080/"
        },
        "id": "F8QXzVsszTk7",
        "outputId": "3167aa6e-1c85-4cd8-d3d3-08c4b01636d7"
      },
      "execution_count": 11,
      "outputs": [
        {
          "output_type": "stream",
          "name": "stdout",
          "text": [
            "Name: Abhishek Pratap Singh\n",
            "Age: 24\n"
          ]
        }
      ]
    },
    {
      "cell_type": "code",
      "source": [
        "#3. Write code to print all the pre-defined keywords in Python using the keyword library"
      ],
      "metadata": {
        "id": "E52-fwXUzb7v"
      },
      "execution_count": 12,
      "outputs": []
    },
    {
      "cell_type": "code",
      "source": [
        "import keyword\n",
        "print(keyword.kwlist)"
      ],
      "metadata": {
        "colab": {
          "base_uri": "https://localhost:8080/"
        },
        "id": "UqAbKJamzmMY",
        "outputId": "c8599734-1b4f-403f-c50e-7aa8c3831adc"
      },
      "execution_count": 13,
      "outputs": [
        {
          "output_type": "stream",
          "name": "stdout",
          "text": [
            "['False', 'None', 'True', 'and', 'as', 'assert', 'async', 'await', 'break', 'class', 'continue', 'def', 'del', 'elif', 'else', 'except', 'finally', 'for', 'from', 'global', 'if', 'import', 'in', 'is', 'lambda', 'nonlocal', 'not', 'or', 'pass', 'raise', 'return', 'try', 'while', 'with', 'yield']\n"
          ]
        }
      ]
    },
    {
      "cell_type": "code",
      "source": [
        "#4. Write a program that checks if a given word is a Python keyword.\n"
      ],
      "metadata": {
        "id": "_mJOVFojzrEB"
      },
      "execution_count": 14,
      "outputs": []
    },
    {
      "cell_type": "code",
      "source": [
        "word = input(\"Enter a word: \")\n",
        "print(keyword.iskeyword(word))"
      ],
      "metadata": {
        "colab": {
          "base_uri": "https://localhost:8080/"
        },
        "id": "zZm_0wVpzxWI",
        "outputId": "9ae964ed-ae37-42ad-cfa4-fc1ef58d27e3"
      },
      "execution_count": 15,
      "outputs": [
        {
          "output_type": "stream",
          "name": "stdout",
          "text": [
            "Enter a word: Abhishek Pratap Singh\n",
            "False\n"
          ]
        }
      ]
    },
    {
      "cell_type": "code",
      "source": [
        "#6.  Write a function to demonstrate the behavior of mutable and immutable arguments."
      ],
      "metadata": {
        "id": "Lk24LL5Ez-M5"
      },
      "execution_count": 18,
      "outputs": []
    },
    {
      "cell_type": "code",
      "source": [
        "def modify_list(l):\n",
        "    l.append(4)\n",
        "\n",
        "def modify_int(n):\n",
        "    n += 1\n",
        "\n",
        "lst = [1, 2, 3]\n",
        "num = 5\n",
        "modify_list(lst)\n",
        "modify_int(num)\n",
        "print(lst)  # changed\n",
        "print(num)  # not changed"
      ],
      "metadata": {
        "colab": {
          "base_uri": "https://localhost:8080/"
        },
        "id": "qYUrbtu_0IMK",
        "outputId": "e25d1fac-07b9-4bf1-91db-e41ee60fd3c1"
      },
      "execution_count": 19,
      "outputs": [
        {
          "output_type": "stream",
          "name": "stdout",
          "text": [
            "[1, 2, 3, 4]\n",
            "5\n"
          ]
        }
      ]
    },
    {
      "cell_type": "code",
      "source": [
        "#7.  Write a program that performs basic arithmetic operations on two user-input numbers.\n",
        "\n"
      ],
      "metadata": {
        "id": "e8bSwXhT0Y4K"
      },
      "execution_count": 20,
      "outputs": []
    },
    {
      "cell_type": "code",
      "source": [
        "a = int(input(\"Enter a: \"))\n",
        "b = int(input(\"Enter b: \"))\n",
        "print(\"Sum:\", a + b)\n",
        "print(\"Diff:\", a - b)\n",
        "print(\"Product:\", a * b)\n",
        "print(\"Divide:\", a / b)"
      ],
      "metadata": {
        "colab": {
          "base_uri": "https://localhost:8080/"
        },
        "id": "DIk2gIZT0fob",
        "outputId": "7d3ced0c-0a9f-4ea8-fb84-22a8aff54308"
      },
      "execution_count": 21,
      "outputs": [
        {
          "output_type": "stream",
          "name": "stdout",
          "text": [
            "Enter a: 20\n",
            "Enter b: 10\n",
            "Sum: 30\n",
            "Diff: 10\n",
            "Product: 200\n",
            "Divide: 2.0\n"
          ]
        }
      ]
    },
    {
      "cell_type": "code",
      "source": [
        "#8. Write a program to demonstrate the use of logical operators."
      ],
      "metadata": {
        "id": "qT1UsOoS0oMJ"
      },
      "execution_count": 22,
      "outputs": []
    },
    {
      "cell_type": "code",
      "source": [
        "x = 5\n",
        "print(x > 2 and x < 10)\n",
        "print(not(x > 10))"
      ],
      "metadata": {
        "colab": {
          "base_uri": "https://localhost:8080/"
        },
        "id": "yZU2_-0T0vG1",
        "outputId": "1e8502ba-163f-456f-9cf3-324bf6df4966"
      },
      "execution_count": 23,
      "outputs": [
        {
          "output_type": "stream",
          "name": "stdout",
          "text": [
            "True\n",
            "True\n"
          ]
        }
      ]
    },
    {
      "cell_type": "code",
      "source": [
        "#9. Write a Python program to convert user input from string to integer, float, and boolean types"
      ],
      "metadata": {
        "id": "-9VbMSe601tt"
      },
      "execution_count": 24,
      "outputs": []
    },
    {
      "cell_type": "code",
      "source": [
        "val = input(\"Enter value: \")\n",
        "print(int(val), float(val), bool(val))"
      ],
      "metadata": {
        "colab": {
          "base_uri": "https://localhost:8080/"
        },
        "id": "zUNIpU5407om",
        "outputId": "995e9450-6bbf-4edc-8f8e-474d6835a52b"
      },
      "execution_count": 25,
      "outputs": [
        {
          "output_type": "stream",
          "name": "stdout",
          "text": [
            "Enter value: 10\n",
            "10 10.0 True\n"
          ]
        }
      ]
    },
    {
      "cell_type": "code",
      "source": [
        "#10. Write code to demonstrate type casting with list elements"
      ],
      "metadata": {
        "id": "soywtgi_1BmU"
      },
      "execution_count": 26,
      "outputs": []
    },
    {
      "cell_type": "code",
      "source": [
        "lst = ['1', '2', '3']\n",
        "lst_int = [int(i) for i in lst]\n",
        "print(lst_int)"
      ],
      "metadata": {
        "colab": {
          "base_uri": "https://localhost:8080/"
        },
        "id": "VDmdDcr71IN-",
        "outputId": "50d59d71-f392-4842-fd78-10287122b729"
      },
      "execution_count": 27,
      "outputs": [
        {
          "output_type": "stream",
          "name": "stdout",
          "text": [
            "[1, 2, 3]\n"
          ]
        }
      ]
    },
    {
      "cell_type": "code",
      "source": [
        "#12. . Write a for loop to print numbers from 1 to 10"
      ],
      "metadata": {
        "id": "3EVxNPUQ1Lp0"
      },
      "execution_count": 28,
      "outputs": []
    },
    {
      "cell_type": "code",
      "source": [
        "for i in range(1, 11):\n",
        "    print(i)"
      ],
      "metadata": {
        "colab": {
          "base_uri": "https://localhost:8080/"
        },
        "id": "Gcl5TkNg1UOF",
        "outputId": "6f07e926-6ef4-49b1-d132-0d5df970ec90"
      },
      "execution_count": 29,
      "outputs": [
        {
          "output_type": "stream",
          "name": "stdout",
          "text": [
            "1\n",
            "2\n",
            "3\n",
            "4\n",
            "5\n",
            "6\n",
            "7\n",
            "8\n",
            "9\n",
            "10\n"
          ]
        }
      ]
    },
    {
      "cell_type": "code",
      "source": [
        "#13.  Write a Python program to find the sum of all even numbers between 1 and 50"
      ],
      "metadata": {
        "id": "lFYQmUrA1YB_"
      },
      "execution_count": 30,
      "outputs": []
    },
    {
      "cell_type": "code",
      "source": [
        "total = 0\n",
        "for i in range(2, 51, 2):\n",
        "    total += i\n",
        "print(\"Sum:\", total)\n"
      ],
      "metadata": {
        "colab": {
          "base_uri": "https://localhost:8080/"
        },
        "id": "NAtmdv9P1bfZ",
        "outputId": "76981b41-d950-4c63-d196-55dcee9d230c"
      },
      "execution_count": 31,
      "outputs": [
        {
          "output_type": "stream",
          "name": "stdout",
          "text": [
            "Sum: 650\n"
          ]
        }
      ]
    },
    {
      "cell_type": "code",
      "source": [
        "#14. Write a program to reverse a string using a while loop."
      ],
      "metadata": {
        "id": "LmzUKpRq1gPI"
      },
      "execution_count": 32,
      "outputs": []
    },
    {
      "cell_type": "code",
      "source": [
        "s = \"hello\"\n",
        "rev = \"\"\n",
        "i = len(s) - 1\n",
        "while i >= 0:\n",
        "    rev += s[i]\n",
        "    i -= 1\n",
        "print(rev)"
      ],
      "metadata": {
        "colab": {
          "base_uri": "https://localhost:8080/"
        },
        "id": "-D1YzI-t1kJ1",
        "outputId": "3e2a9b09-089b-40bf-acd5-8b17bda64075"
      },
      "execution_count": 33,
      "outputs": [
        {
          "output_type": "stream",
          "name": "stdout",
          "text": [
            "olleh\n"
          ]
        }
      ]
    },
    {
      "cell_type": "code",
      "source": [
        "#15.  Write a Python program to calculate the factorial of a number provided by the user using a while loop."
      ],
      "metadata": {
        "id": "D2PmYJAW1pQX"
      },
      "execution_count": 34,
      "outputs": []
    },
    {
      "cell_type": "code",
      "source": [
        "n = int(input(\"Enter number: \"))\n",
        "fact = 1\n",
        "while n > 0:\n",
        "    fact *= n\n",
        "    n -= 1\n",
        "print(\"Factorial:\", fact)"
      ],
      "metadata": {
        "colab": {
          "base_uri": "https://localhost:8080/"
        },
        "id": "GZBBcHBQ1t8J",
        "outputId": "b9d9eaf6-2de0-484a-999b-8250a8bd6e2d"
      },
      "execution_count": 35,
      "outputs": [
        {
          "output_type": "stream",
          "name": "stdout",
          "text": [
            "Enter number: 10\n",
            "Factorial: 3628800\n"
          ]
        }
      ]
    }
  ]
}